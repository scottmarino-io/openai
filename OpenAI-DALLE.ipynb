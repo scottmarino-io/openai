{
 "cells": [
  {
   "cell_type": "code",
   "execution_count": null,
   "metadata": {},
   "outputs": [],
   "source": [
    "import os\n",
    "import pprint\n",
    "from openai import OpenAI\n",
    "client = OpenAI()\n",
    "client.api_key = os.getenv(\"OPENAI_API_KEY\")\n",
    "\n",
    "response = client.images.generate(\n",
    "  model=\"dall-e-3\",\n",
    "  prompt=\"A semi trailer truck falling vertically into the grand canyon. Truck needs to be exploding and engulfed in flames.\",\n",
    "  size=\"1024x1024\",\n",
    "  quality=\"standard\",\n",
    "  n=1,\n",
    ")\n",
    "\n",
    "image_url = response.data[0].url\n",
    "print(image_url)\n",
    "print(response)\n",
    "pprint.pprint(response)\n",
    "\n",
    "for key, value in response:\n",
    "    print(f\" {key}, {value}\")\n"
   ]
  },
  {
   "cell_type": "code",
   "execution_count": null,
   "metadata": {},
   "outputs": [],
   "source": [
    "print([method for method in dir(client) if not method.startswith('__')])\n",
    "dir(OpenAI)\n",
    "dir(OpenAI.get_api_list)"
   ]
  },
  {
   "cell_type": "code",
   "execution_count": null,
   "metadata": {},
   "outputs": [],
   "source": [
    "import os\n",
    "dir(OSError)\n",
    "error = OSError(WindowsError)\n",
    "print(OSError.winerror)\n",
    "dir(error)\n",
    "dir(OpenAI)"
   ]
  },
  {
   "cell_type": "code",
   "execution_count": null,
   "metadata": {},
   "outputs": [],
   "source": [
    "import os\n",
    "import pprint\n",
    "from openai import OpenAI\n",
    "client = OpenAI()\n",
    "client.api_key = os.getenv(\"OPENAI_API_KEY\")\n",
    "\n",
    "client.beta.assistants.list()\n",
    "\n",
    "asst = client.beta.assistants\n",
    "dir(asst)\n",
    "asst.list()\n",
    "len(asst)"
   ]
  },
  {
   "cell_type": "code",
   "execution_count": null,
   "metadata": {},
   "outputs": [],
   "source": [
    "#!/usr/bin/env python\n",
    "\n",
    "from openai import OpenAI\n",
    "\n",
    "# gets OPENAI_API_KEY from your environment variables\n",
    "openai = OpenAI()\n",
    "\n",
    "prompt = \"An astronaut lounging in a tropical resort in space, pixel art\"\n",
    "model = \"dall-e-3\"\n",
    "\n",
    "\n",
    "def main() -> None:\n",
    "    # Generate an image based on the prompt\n",
    "    response = openai.images.generate(prompt=prompt, model=model)\n",
    "\n",
    "    # Prints response containing a URL link to image\n",
    "    print(response)\n",
    "\n",
    "\n",
    "if __name__ == \"__main__\":\n",
    "    main()"
   ]
  },
  {
   "cell_type": "code",
   "execution_count": null,
   "metadata": {},
   "outputs": [],
   "source": [
    "#!/usr/bin/env -S poetry run python\n",
    "\n",
    "from openai import OpenAI\n",
    "\n",
    "# gets API Key from environment variable OPENAI_API_KEY\n",
    "client = OpenAI()\n",
    "\n",
    "# Non-streaming:\n",
    "print(\"----- standard request -----\")\n",
    "completion = client.chat.completions.create(\n",
    "    model=\"gpt-4\",\n",
    "    messages=[\n",
    "        {\n",
    "            \"role\": \"user\",\n",
    "            \"content\": \"Say this is a test\",\n",
    "        },\n",
    "    ],\n",
    ")\n",
    "print(completion.choices[0].message.content)\n",
    "\n",
    "# Streaming:\n",
    "print(\"----- streaming request -----\")\n",
    "stream = client.chat.completions.create(\n",
    "    model=\"gpt-4\",\n",
    "    messages=[\n",
    "        {\n",
    "            \"role\": \"user\",\n",
    "            \"content\": \"How do I output all files in a directory using Python?\",\n",
    "        },\n",
    "    ],\n",
    "    stream=True,\n",
    ")\n",
    "for chunk in stream:\n",
    "    if not chunk.choices:\n",
    "        continue\n",
    "\n",
    "    print(chunk.choices[0].delta.content, end=\"\")\n",
    "print()"
   ]
  }
 ],
 "metadata": {
  "kernelspec": {
   "display_name": "Python 3",
   "language": "python",
   "name": "python3"
  },
  "language_info": {
   "codemirror_mode": {
    "name": "ipython",
    "version": 3
   },
   "file_extension": ".py",
   "mimetype": "text/x-python",
   "name": "python",
   "nbconvert_exporter": "python",
   "pygments_lexer": "ipython3",
   "version": "3.12.2"
  }
 },
 "nbformat": 4,
 "nbformat_minor": 2
}
