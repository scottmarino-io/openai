import os
from openai import OpenAI
client = OpenAI()
client.api_key = os.getenv("OPENAI_API_KEY")

response = client.images.generate(
  model="dall-e-3",
  prompt="an animatronic ice cream cone",
  size="1024x1024",
  quality="standard",
  n=1,
)

image_url = response.data[0].url