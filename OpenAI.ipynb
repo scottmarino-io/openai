{
 "cells": [
  {
   "cell_type": "code",
   "execution_count": null,
   "metadata": {},
   "outputs": [],
   "source": [
    "from openai import OpenAI\n",
    "import pprint\n",
    "from dotenv import load_dotenv\n",
    "import os\n",
    "\n",
    "apikey = os.getenv(\"OPENAI_API_KEY\")\n",
    "print(apikey)\n",
    "\n",
    "OpenAI.api_key = apikey\n",
    "\n",
    "client = OpenAI()\n",
    "\n",
    "response = client.chat.completions.create(\n",
    "    model=\"gpt-4-1106-preview\",\n",
    "    messages=[  \n",
    "        {\"role\": \"system\", \"content\": \"What did the stock market do last week?\"},\n",
    "        #{\"role\": \"user\", \"content\": \"What is the purpose of life?\"}\n",
    "  ]\n",
    ")\n",
    "\n",
    "pprint.pprint(response.choices[0].message.content)\n"
   ]
  },
  {
   "cell_type": "code",
   "execution_count": null,
   "metadata": {},
   "outputs": [],
   "source": [
    "pprint.pprint(response)"
   ]
  },
  {
   "cell_type": "code",
   "execution_count": null,
   "metadata": {},
   "outputs": [],
   "source": [
    "for key, value in response:\n",
    "    print(f\" {key}, {value}\")"
   ]
  }
 ],
 "metadata": {
  "kernelspec": {
   "display_name": "Python 3",
   "language": "python",
   "name": "python3"
  },
  "language_info": {
   "codemirror_mode": {
    "name": "ipython",
    "version": 3
   },
   "file_extension": ".py",
   "mimetype": "text/x-python",
   "name": "python",
   "nbconvert_exporter": "python",
   "pygments_lexer": "ipython3",
   "version": "3.12.2"
  }
 },
 "nbformat": 4,
 "nbformat_minor": 2
}
