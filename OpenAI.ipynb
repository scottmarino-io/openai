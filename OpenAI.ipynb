{
 "cells": [
  {
   "cell_type": "code",
   "execution_count": null,
   "metadata": {},
   "outputs": [],
   "source": [
    "import pprint\n",
    "import os\n",
    "from openai import OpenAI\n",
    "from dotenv import load_dotenv\n",
    "\n",
    "apikey = os.getenv(\"OPENAI_API_KEY\")\n",
    "print(apikey)\n",
    "\n",
    "OpenAI.api_key = apikey\n",
    "\n",
    "client = OpenAI()\n",
    "\n",
    "response = client.chat.completions.create(\n",
    "    model=\"gpt-4-1106-preview\",\n",
    "    messages=[  \n",
    "        {\"role\": \"system\", \"content\": \"Return the latest news on the stock market.\"},\n",
    "        #{\"role\": \"user\", \"content\": \"What is the purpose of life?\"}\n",
    "  ]\n",
    ")\n",
    "\n",
    "pprint.pprint(response.choices[0].message.content)\n"
   ]
  },
  {
   "cell_type": "code",
   "execution_count": 48,
   "metadata": {},
   "outputs": [
    {
     "name": "stdout",
     "output_type": "stream",
     "text": [
      "Response does not have attribute choices\n",
      "1779065141808\n",
      "5525654372551455235\n",
      "Response has id\n"
     ]
    }
   ],
   "source": [
    "#pprint.pprint(response)\n",
    "\n",
    "if hasattr(response, \"message\"):\n",
    "    print(\"Response has attribute choices\")\n",
    "else:\n",
    "    print(\"Response does not have attribute choices\")\n",
    "\n",
    "respid = id(response.choices[0].message.content)\n",
    "print(respid)\n",
    "resphash = hash(response.choices[0].message.content)\n",
    "print(resphash)\n",
    "\n",
    "if respid == id(response.choices[0].message.content):\n",
    "    print(\"Response has id\")"
   ]
  },
  {
   "cell_type": "code",
   "execution_count": null,
   "metadata": {},
   "outputs": [],
   "source": [
    "for key, value in response:\n",
    "    print(f\" {key}, {value}\")"
   ]
  },
  {
   "cell_type": "code",
   "execution_count": null,
   "metadata": {},
   "outputs": [],
   "source": [
    "from openai import OpenAI\n",
    "\n",
    "client = OpenAI()\n",
    "\n",
    "stream = client.chat.completions.create(\n",
    "    model=\"gpt-4\",\n",
    "    messages=[{\"role\": \"user\", \"content\": \"Get the weather for today.\"}],\n",
    "    stream=True,\n",
    ")\n",
    "for chunk in stream:\n",
    "    print(chunk.choices[0].delta.content or \"\", end=\"\")"
   ]
  },
  {
   "cell_type": "code",
   "execution_count": null,
   "metadata": {},
   "outputs": [],
   "source": [
    "#!/usr/bin/env -S poetry run python\n",
    "\n",
    "import asyncio\n",
    "\n",
    "from openai import OpenAI, AsyncOpenAI\n",
    "\n",
    "# This script assumes you have the OPENAI_API_KEY environment variable set to a valid OpenAI API key.\n",
    "#\n",
    "# You can run this script from the root directory like so:\n",
    "# `python examples/streaming.py`\n",
    "\n",
    "\n",
    "def sync_main() -> None:\n",
    "    client = OpenAI()\n",
    "    response = client.completions.create(\n",
    "        model=\"gpt-3.5-turbo-instruct\",\n",
    "        prompt=\"1,2,3,\",\n",
    "        max_tokens=5,\n",
    "        temperature=0,\n",
    "        stream=True,\n",
    "    )\n",
    "\n",
    "    # You can manually control iteration over the response\n",
    "    first = next(response)\n",
    "    print(f\"got response data: {first.model_dump_json(indent=2)}\")\n",
    "\n",
    "    # Or you could automatically iterate through all of data.\n",
    "    # Note that the for loop will not exit until *all* of the data has been processed.\n",
    "    for data in response:\n",
    "        print(data.model_dump_json())\n",
    "\n",
    "\n",
    "async def async_main() -> None:\n",
    "    client = AsyncOpenAI()\n",
    "    response = await client.completions.create(\n",
    "        model=\"gpt-3.5-turbo-instruct\",\n",
    "        prompt=\"1,2,3,\",\n",
    "        max_tokens=5,\n",
    "        temperature=0,\n",
    "        stream=True,\n",
    "    )\n",
    "\n",
    "    # You can manually control iteration over the response.\n",
    "    # In Python 3.10+ you can also use the `await anext(response)` builtin instead\n",
    "    first = await response.__anext__()\n",
    "    print(f\"got response data: {first.model_dump_json(indent=2)}\")\n",
    "\n",
    "    # Or you could automatically iterate through all of data.\n",
    "    # Note that the for loop will not exit until *all* of the data has been processed.\n",
    "    async for data in response:\n",
    "        print(data.model_dump_json())\n",
    "\n",
    "\n",
    "sync_main()\n",
    "\n",
    "await async_main()"
   ]
  }
 ],
 "metadata": {
  "kernelspec": {
   "display_name": "Python 3",
   "language": "python",
   "name": "python3"
  },
  "language_info": {
   "codemirror_mode": {
    "name": "ipython",
    "version": 3
   },
   "file_extension": ".py",
   "mimetype": "text/x-python",
   "name": "python",
   "nbconvert_exporter": "python",
   "pygments_lexer": "ipython3",
   "version": "3.12.2"
  }
 },
 "nbformat": 4,
 "nbformat_minor": 2
}
